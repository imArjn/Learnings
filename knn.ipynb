{
 "cells": [
  {
   "cell_type": "markdown",
   "id": "7c175dfd",
   "metadata": {},
   "source": [
    "## Learning K Nearest Neighbour (KNN)"
   ]
  },
  {
   "cell_type": "markdown",
   "id": "cb104b9e",
   "metadata": {},
   "source": [
    "Dataset used: Classified data from the lecture"
   ]
  },
  {
   "cell_type": "markdown",
   "id": "9071cea2",
   "metadata": {},
   "source": []
  }
 ],
 "metadata": {
  "kernelspec": {
   "display_name": "lrnenv",
   "language": "python",
   "name": "python3"
  },
  "language_info": {
   "name": "python",
   "version": "3.11.9"
  }
 },
 "nbformat": 4,
 "nbformat_minor": 5
}
